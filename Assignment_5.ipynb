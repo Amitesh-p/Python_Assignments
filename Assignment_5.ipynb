{
 "cells": [
  {
   "cell_type": "markdown",
   "id": "b0029dfc",
   "metadata": {},
   "source": [
    "# Python Assignment 5 : Exception Handling "
   ]
  },
  {
   "cell_type": "markdown",
   "id": "08dcf76f",
   "metadata": {},
   "source": [
    "Qustion 1 : Write a function to compute 5/0 and use try/except to catch the exceptions."
   ]
  },
  {
   "cell_type": "code",
   "execution_count": 1,
   "id": "4d58e92e",
   "metadata": {},
   "outputs": [
    {
     "name": "stdout",
     "output_type": "stream",
     "text": [
      "division by zero\n"
     ]
    }
   ],
   "source": [
    "def compute():\n",
    "    return 5/0\n",
    "\n",
    "try : \n",
    "    compute()\n",
    "except Exception as e:\n",
    "    print(e)"
   ]
  },
  {
   "cell_type": "markdown",
   "id": "04ca8c1c",
   "metadata": {},
   "source": [
    "Question 2 : Implement a Python program to generate all sentences where subject is in [\"Americans\", \"Indians\"] and verb is in [\"Play\", \"watch\"] and the object is in [\"Baseball\",\"cricket\"].\n",
    "\n",
    "Hint: Subject,Verb and Object should be declared in the program as shown below. <br>\n",
    "subjects=[\"Americans \",\"Indians\"] <br>\n",
    "verbs=[\"play\",\"watch\"] <br>\n",
    "objects=[\"Baseball\",\"Cricket\"] <br>\n",
    "Output should come as below:  <br>\n",
    "Americans play Baseball. <br>\n",
    "Americans play Cricket.<br>\n",
    "Americans watch Baseball.<br>\n",
    "Americans watch Cricket.<br>\n",
    "Indians play Baseball.<br>\n",
    "Indians play Cricket.<br>\n",
    "Indians watch Baseball.<br>\n",
    "Indians watch Cricket."
   ]
  },
  {
   "cell_type": "code",
   "execution_count": 2,
   "id": "bfb6dcad",
   "metadata": {},
   "outputs": [],
   "source": [
    "subjects = [\"Americans\", \"Indians\"]\n",
    "verbs = [\"play\", \"watch\"]\n",
    "objects = [\"Basketball\", \"Cricket\"]\n",
    "\n",
    "Results = [(x + \" \" + y + \" \" + z) for x in subjects for y in verbs for z in objects] "
   ]
  },
  {
   "cell_type": "code",
   "execution_count": 3,
   "id": "48d66c35",
   "metadata": {},
   "outputs": [
    {
     "data": {
      "text/plain": [
       "['Americans play Basketball',\n",
       " 'Americans play Cricket',\n",
       " 'Americans watch Basketball',\n",
       " 'Americans watch Cricket',\n",
       " 'Indians play Basketball',\n",
       " 'Indians play Cricket',\n",
       " 'Indians watch Basketball',\n",
       " 'Indians watch Cricket']"
      ]
     },
     "execution_count": 3,
     "metadata": {},
     "output_type": "execute_result"
    }
   ],
   "source": [
    "Results "
   ]
  },
  {
   "cell_type": "code",
   "execution_count": null,
   "id": "682000ab",
   "metadata": {},
   "outputs": [],
   "source": []
  }
 ],
 "metadata": {
  "kernelspec": {
   "display_name": "Python 3",
   "language": "python",
   "name": "python3"
  },
  "language_info": {
   "codemirror_mode": {
    "name": "ipython",
    "version": 3
   },
   "file_extension": ".py",
   "mimetype": "text/x-python",
   "name": "python",
   "nbconvert_exporter": "python",
   "pygments_lexer": "ipython3",
   "version": "3.8.8"
  }
 },
 "nbformat": 4,
 "nbformat_minor": 5
}
