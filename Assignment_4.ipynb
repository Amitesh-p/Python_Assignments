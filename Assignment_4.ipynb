{
 "cells": [
  {
   "cell_type": "markdown",
   "metadata": {},
   "source": [
    "# Python Assignment 4: "
   ]
  },
  {
   "cell_type": "markdown",
   "metadata": {},
   "source": [
    "Question 1 : Write a Python Program(with class concepts) to find the area of the triangle using the below formula. area = (s*(s-a)*(s-b)*(s-c)) ** 0.5 \n",
    "Function to take the length of the sides of triangle from user should be defined in the parent\n",
    "class and function to calculate the area should be defined in subclass."
   ]
  },
  {
   "cell_type": "code",
   "execution_count": 5,
   "metadata": {},
   "outputs": [],
   "source": [
    "class Triangle:\n",
    "    def __init__(self, a, b, c):\n",
    "        self.a = a\n",
    "        self.b = b\n",
    "        self.c = c \n",
    "    \n",
    "class Area(Triangle):\n",
    "    def __init__(self, a, b, c):\n",
    "        super(Area, self).__init__(a, b, c)\n",
    "        \n",
    "    def area(self):\n",
    "        s = (self.a + self.b + self.c)/2\n",
    "        area = s*(s-self.a)*(s-self.b)*(s-self.c)*0.5\n",
    "        return area"
   ]
  },
  {
   "cell_type": "code",
   "execution_count": 6,
   "metadata": {},
   "outputs": [
    {
     "name": "stdout",
     "output_type": "stream",
     "text": [
      "The area of triangle is = 4.21875\n"
     ]
    }
   ],
   "source": [
    "obj = Area(2,3,4)\n",
    "print(\"The area of triangle is =\", obj.area())"
   ]
  },
  {
   "cell_type": "code",
   "execution_count": 7,
   "metadata": {},
   "outputs": [
    {
     "name": "stdout",
     "output_type": "stream",
     "text": [
      "The area of triangle is = 18.0\n"
     ]
    }
   ],
   "source": [
    "obj = Area(3,4,5)\n",
    "print(\"The area of triangle is =\", obj.area())"
   ]
  },
  {
   "cell_type": "code",
   "execution_count": null,
   "metadata": {},
   "outputs": [],
   "source": []
  },
  {
   "cell_type": "markdown",
   "metadata": {},
   "source": [
    "Question 2: Write a function filter_long_words() that takes a list of words and an integer n and returns the list of words that are longer than n."
   ]
  },
  {
   "cell_type": "code",
   "execution_count": 11,
   "metadata": {},
   "outputs": [
    {
     "name": "stdout",
     "output_type": "stream",
     "text": [
      "Initialised list_Utilities object\n",
      "New List of Words  => ['Love', 'Ice-cream']\n"
     ]
    }
   ],
   "source": [
    "class list_Utilities:\n",
    "    def __init__(self, wordlist):\n",
    "        self.wordlist = wordlist\n",
    "        print (\"Initialised list_Utilities object\")\n",
    "\n",
    "    def filter_long_words(self, n):\n",
    "        return list(filter(lambda x:len(x) > n, self.wordlist))\n",
    "\n",
    "instance = list_Utilities([\"I\", 'am', 'Love', 'Ice-cream'])\n",
    "print (\"New List of Words  => \" + str(instance.filter_long_words(2)) ) "
   ]
  },
  {
   "cell_type": "code",
   "execution_count": null,
   "metadata": {},
   "outputs": [],
   "source": []
  },
  {
   "cell_type": "markdown",
   "metadata": {},
   "source": [
    "Question 3: Write a Python program using function concept that maps list of words into a list of integers representing the lengths of the corresponding words.Hint: If a list [ ab,cde,erty] is passed on to the python function output should come as [2,3,4] Here 2,3 and 4 are the lengths of the words in the list."
   ]
  },
  {
   "cell_type": "code",
   "execution_count": 17,
   "metadata": {},
   "outputs": [
    {
     "data": {
      "text/plain": [
       "[3, 5, 2, 3]"
      ]
     },
     "execution_count": 17,
     "metadata": {},
     "output_type": "execute_result"
    }
   ],
   "source": [
    "def length(word):\n",
    "    return list(map(lambda x: len(x), word))\n",
    "\n",
    "length(['The', 'apple', 'is', 'red'])"
   ]
  },
  {
   "cell_type": "code",
   "execution_count": null,
   "metadata": {},
   "outputs": [],
   "source": []
  },
  {
   "cell_type": "markdown",
   "metadata": {},
   "source": [
    "Question 4: Write a Python function which takes a character (i.e. a string of length 1) and returns True if\n",
    "it is a vowel, False otherwise."
   ]
  },
  {
   "cell_type": "code",
   "execution_count": 15,
   "metadata": {},
   "outputs": [
    {
     "data": {
      "text/plain": [
       "True"
      ]
     },
     "execution_count": 15,
     "metadata": {},
     "output_type": "execute_result"
    }
   ],
   "source": [
    "def vowel(char):\n",
    "    vowel = ['a', 'e', 'i', 'o', 'u']\n",
    "    if char in vowel:\n",
    "        return True\n",
    "    else:\n",
    "        return False\n",
    "    \n",
    "#vowel('m')\n",
    "vowel('a')"
   ]
  },
  {
   "cell_type": "code",
   "execution_count": null,
   "metadata": {},
   "outputs": [],
   "source": []
  }
 ],
 "metadata": {
  "kernelspec": {
   "display_name": "Python 3",
   "language": "python",
   "name": "python3"
  },
  "language_info": {
   "codemirror_mode": {
    "name": "ipython",
    "version": 3
   },
   "file_extension": ".py",
   "mimetype": "text/x-python",
   "name": "python",
   "nbconvert_exporter": "python",
   "pygments_lexer": "ipython3",
   "version": "3.6.10"
  }
 },
 "nbformat": 4,
 "nbformat_minor": 4
}
